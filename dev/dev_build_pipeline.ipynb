{
  "cells": [
    {
      "cell_type": "markdown",
      "metadata": {
        "id": "PcuDoO1pudWm"
      },
      "source": [
        "# Import libraries"
      ]
    },
    {
      "cell_type": "code",
      "execution_count": 1,
      "metadata": {
        "id": "vmX25UBTAqTX"
      },
      "outputs": [
        {
          "name": "stderr",
          "output_type": "stream",
          "text": [
            "C:\\Users\\tomyt\\AppData\\Local\\Temp\\ipykernel_1724\\1490939188.py:2: DeprecationWarning: \n",
            "Pyarrow will become a required dependency of pandas in the next major release of pandas (pandas 3.0),\n",
            "(to allow more performant data types, such as the Arrow string type, and better interoperability with other libraries)\n",
            "but was not found to be installed on your system.\n",
            "If this would cause problems for you,\n",
            "please provide us feedback at https://github.com/pandas-dev/pandas/issues/54466\n",
            "        \n",
            "  import pandas as pd\n"
          ]
        }
      ],
      "source": [
        "import numpy as np\n",
        "import pandas as pd\n",
        "\n",
        "# pipeline\n",
        "from sklearn.impute import SimpleImputer\n",
        "from sklearn.preprocessing import OneHotEncoder, StandardScaler\n",
        "from sklearn.compose import ColumnTransformer\n",
        "from sklearn.pipeline import Pipeline\n",
        "\n",
        "# modeling\n",
        "from sklearn.linear_model import LogisticRegression, LogisticRegressionCV\n",
        "from sklearn.model_selection import train_test_split\n",
        "from sklearn.metrics import f1_score\n",
        "import joblib"
      ]
    },
    {
      "cell_type": "markdown",
      "metadata": {
        "id": "E5iQvuv-ufqu"
      },
      "source": [
        "# Manual Preprocess"
      ]
    },
    {
      "cell_type": "code",
      "execution_count": 2,
      "metadata": {
        "id": "rEvzX-n_Awna"
      },
      "outputs": [],
      "source": [
        "RANDOM_STATE=567\n",
        "\n",
        "loan_data = pd.read_csv(\"https://raw.githubusercontent.com/dphi-official/Datasets/master/Loan_Data/loan_train.csv\")\n",
        "loan_data.drop(columns=['Unnamed: 0', 'Loan_ID'], inplace=True)\n",
        "loan_data['Credit_History'] = loan_data['Credit_History'].astype('object')\n",
        "X = loan_data.drop('Loan_Status', axis=1)\n",
        "y = loan_data.Loan_Status\n",
        "X_train, X_test, y_train, y_test = train_test_split(X, y, test_size=0.2, random_state=RANDOM_STATE)"
      ]
    },
    {
      "cell_type": "markdown",
      "metadata": {
        "id": "jxJFNTfMuj3r"
      },
      "source": [
        "# Pipeline"
      ]
    },
    {
      "cell_type": "markdown",
      "metadata": {
        "id": "DtBLGysEuyjg"
      },
      "source": [
        "## ColumnTransformer"
      ]
    },
    {
      "cell_type": "code",
      "execution_count": 3,
      "metadata": {
        "id": "LbaaIMzWAxTD"
      },
      "outputs": [],
      "source": [
        "num_cols = X.select_dtypes(include=['int64', 'float64']).columns.tolist()\n",
        "cat_cols = X.select_dtypes(include=['object']).columns.tolist()\n",
        "\n",
        "num_pipeline = Pipeline(steps=[('num_impute', SimpleImputer(strategy='median')),\n",
        "                               ('num_scale', StandardScaler())])\n",
        "cat_pipeline = Pipeline(steps=[('cat_impute', SimpleImputer(strategy='most_frequent')),\n",
        "                               ('cat_encode', OneHotEncoder(drop='first'))])\n",
        "\n",
        "preprocess = ColumnTransformer(transformers=[('num', num_pipeline, num_cols),\n",
        "                                             ('cat', cat_pipeline, cat_cols)])"
      ]
    },
    {
      "cell_type": "markdown",
      "metadata": {
        "id": "OuoNw5XGu1xF"
      },
      "source": [
        "## Full Pipeline"
      ]
    },
    {
      "cell_type": "code",
      "execution_count": 4,
      "metadata": {
        "colab": {
          "base_uri": "https://localhost:8080/"
        },
        "id": "sbq-YtPIKgkO",
        "outputId": "56afe28a-ed21-48e3-c5a2-e9311a81211f"
      },
      "outputs": [
        {
          "name": "stdout",
          "output_type": "stream",
          "text": [
            "F1 Train: 0.8770764119601329\n",
            "F1 Test: 0.8848484848484849\n"
          ]
        }
      ],
      "source": [
        "model = LogisticRegressionCV(Cs=100, cv=10, scoring='f1', solver='liblinear', random_state=RANDOM_STATE)\n",
        "pipeline = Pipeline(steps=[('preprocess', preprocess),\n",
        "                           ('model', model)])\n",
        "pipeline.fit(X_train, y_train)\n",
        "print(f'F1 Train: {f1_score(y_train, pipeline.predict(X_train))}')\n",
        "print(f'F1 Test: {f1_score(y_test, pipeline.predict(X_test))}')"
      ]
    },
    {
      "cell_type": "code",
      "execution_count": 5,
      "metadata": {
        "colab": {
          "base_uri": "https://localhost:8080/",
          "height": 239
        },
        "id": "0Bg3TDzpvcQm",
        "outputId": "d4036558-10d0-4f92-9bb5-fc956e4b42a7"
      },
      "outputs": [
        {
          "data": {
            "text/html": [
              "<div>\n",
              "<style scoped>\n",
              "    .dataframe tbody tr th:only-of-type {\n",
              "        vertical-align: middle;\n",
              "    }\n",
              "\n",
              "    .dataframe tbody tr th {\n",
              "        vertical-align: top;\n",
              "    }\n",
              "\n",
              "    .dataframe thead th {\n",
              "        text-align: right;\n",
              "    }\n",
              "</style>\n",
              "<table border=\"1\" class=\"dataframe\">\n",
              "  <thead>\n",
              "    <tr style=\"text-align: right;\">\n",
              "      <th></th>\n",
              "      <th>ApplicantIncome</th>\n",
              "      <th>CoapplicantIncome</th>\n",
              "      <th>LoanAmount</th>\n",
              "      <th>Loan_Amount_Term</th>\n",
              "      <th>Gender_Male</th>\n",
              "      <th>Married_Yes</th>\n",
              "      <th>Dependents_1</th>\n",
              "      <th>Dependents_2</th>\n",
              "      <th>Dependents_3+</th>\n",
              "      <th>Education_Not Graduate</th>\n",
              "      <th>Self_Employed_Yes</th>\n",
              "      <th>Credit_History_1.0</th>\n",
              "      <th>Property_Area_Semiurban</th>\n",
              "      <th>Property_Area_Urban</th>\n",
              "    </tr>\n",
              "  </thead>\n",
              "  <tbody>\n",
              "    <tr>\n",
              "      <th>0</th>\n",
              "      <td>0.217423</td>\n",
              "      <td>-0.528093</td>\n",
              "      <td>0.196239</td>\n",
              "      <td>0.282064</td>\n",
              "      <td>1.0</td>\n",
              "      <td>1.0</td>\n",
              "      <td>0.0</td>\n",
              "      <td>0.0</td>\n",
              "      <td>0.0</td>\n",
              "      <td>0.0</td>\n",
              "      <td>0.0</td>\n",
              "      <td>1.0</td>\n",
              "      <td>0.0</td>\n",
              "      <td>1.0</td>\n",
              "    </tr>\n",
              "    <tr>\n",
              "      <th>1</th>\n",
              "      <td>-0.215676</td>\n",
              "      <td>0.197619</td>\n",
              "      <td>0.454656</td>\n",
              "      <td>0.282064</td>\n",
              "      <td>0.0</td>\n",
              "      <td>1.0</td>\n",
              "      <td>0.0</td>\n",
              "      <td>0.0</td>\n",
              "      <td>0.0</td>\n",
              "      <td>0.0</td>\n",
              "      <td>0.0</td>\n",
              "      <td>1.0</td>\n",
              "      <td>1.0</td>\n",
              "      <td>0.0</td>\n",
              "    </tr>\n",
              "    <tr>\n",
              "      <th>2</th>\n",
              "      <td>-0.667552</td>\n",
              "      <td>0.392422</td>\n",
              "      <td>-0.355832</td>\n",
              "      <td>0.282064</td>\n",
              "      <td>1.0</td>\n",
              "      <td>1.0</td>\n",
              "      <td>1.0</td>\n",
              "      <td>0.0</td>\n",
              "      <td>0.0</td>\n",
              "      <td>0.0</td>\n",
              "      <td>0.0</td>\n",
              "      <td>1.0</td>\n",
              "      <td>0.0</td>\n",
              "      <td>1.0</td>\n",
              "    </tr>\n",
              "    <tr>\n",
              "      <th>3</th>\n",
              "      <td>2.389388</td>\n",
              "      <td>0.179995</td>\n",
              "      <td>-0.672979</td>\n",
              "      <td>0.282064</td>\n",
              "      <td>1.0</td>\n",
              "      <td>1.0</td>\n",
              "      <td>1.0</td>\n",
              "      <td>0.0</td>\n",
              "      <td>0.0</td>\n",
              "      <td>0.0</td>\n",
              "      <td>1.0</td>\n",
              "      <td>1.0</td>\n",
              "      <td>1.0</td>\n",
              "      <td>0.0</td>\n",
              "    </tr>\n",
              "    <tr>\n",
              "      <th>4</th>\n",
              "      <td>-0.361503</td>\n",
              "      <td>-0.528093</td>\n",
              "      <td>0.137508</td>\n",
              "      <td>-4.525287</td>\n",
              "      <td>0.0</td>\n",
              "      <td>0.0</td>\n",
              "      <td>1.0</td>\n",
              "      <td>0.0</td>\n",
              "      <td>0.0</td>\n",
              "      <td>0.0</td>\n",
              "      <td>0.0</td>\n",
              "      <td>1.0</td>\n",
              "      <td>1.0</td>\n",
              "      <td>0.0</td>\n",
              "    </tr>\n",
              "  </tbody>\n",
              "</table>\n",
              "</div>"
            ],
            "text/plain": [
              "   ApplicantIncome  CoapplicantIncome  LoanAmount  Loan_Amount_Term  \\\n",
              "0         0.217423          -0.528093    0.196239          0.282064   \n",
              "1        -0.215676           0.197619    0.454656          0.282064   \n",
              "2        -0.667552           0.392422   -0.355832          0.282064   \n",
              "3         2.389388           0.179995   -0.672979          0.282064   \n",
              "4        -0.361503          -0.528093    0.137508         -4.525287   \n",
              "\n",
              "   Gender_Male  Married_Yes  Dependents_1  Dependents_2  Dependents_3+  \\\n",
              "0          1.0          1.0           0.0           0.0            0.0   \n",
              "1          0.0          1.0           0.0           0.0            0.0   \n",
              "2          1.0          1.0           1.0           0.0            0.0   \n",
              "3          1.0          1.0           1.0           0.0            0.0   \n",
              "4          0.0          0.0           1.0           0.0            0.0   \n",
              "\n",
              "   Education_Not Graduate  Self_Employed_Yes  Credit_History_1.0  \\\n",
              "0                     0.0                0.0                 1.0   \n",
              "1                     0.0                0.0                 1.0   \n",
              "2                     0.0                0.0                 1.0   \n",
              "3                     0.0                1.0                 1.0   \n",
              "4                     0.0                0.0                 1.0   \n",
              "\n",
              "   Property_Area_Semiurban  Property_Area_Urban  \n",
              "0                      0.0                  1.0  \n",
              "1                      1.0                  0.0  \n",
              "2                      0.0                  1.0  \n",
              "3                      1.0                  0.0  \n",
              "4                      1.0                  0.0  "
            ]
          },
          "execution_count": 5,
          "metadata": {},
          "output_type": "execute_result"
        }
      ],
      "source": [
        "transformed_cat_cols = pipeline['preprocess'].transformers_[1][1]['cat_encode'].get_feature_names_out(cat_cols).tolist()\n",
        "transformed_data = pd.DataFrame(preprocess.fit_transform(X_train),\n",
        "                                columns=num_cols + transformed_cat_cols)\n",
        "transformed_data.head()"
      ]
    },
    {
      "cell_type": "markdown",
      "metadata": {
        "id": "sAmB53nBu7Tp"
      },
      "source": [
        "## Save Pipeline"
      ]
    },
    {
      "cell_type": "code",
      "execution_count": 6,
      "metadata": {
        "colab": {
          "base_uri": "https://localhost:8080/"
        },
        "id": "8j3rNkAtQHTs",
        "outputId": "4884502f-5440-4d82-a2a9-63010881872e"
      },
      "outputs": [
        {
          "data": {
            "text/plain": [
              "['../models/loan_model_logreg.pkl']"
            ]
          },
          "execution_count": 6,
          "metadata": {},
          "output_type": "execute_result"
        }
      ],
      "source": [
        "# from google.colab import files\n",
        "filename = '../models/loan_model_logreg.pkl'\n",
        "joblib.dump(pipeline, filename)\n",
        "# files.download(filename)"
      ]
    },
    {
      "cell_type": "markdown",
      "metadata": {
        "id": "jBiw1tibQVuH"
      },
      "source": [
        "# Load Pipeline and Predict New Data"
      ]
    },
    {
      "cell_type": "code",
      "execution_count": 7,
      "metadata": {
        "colab": {
          "base_uri": "https://localhost:8080/",
          "height": 99
        },
        "id": "U20I64AiQkgW",
        "outputId": "cef404df-dd2d-45f5-fea7-679e7e65fa45"
      },
      "outputs": [
        {
          "data": {
            "text/html": [
              "<div>\n",
              "<style scoped>\n",
              "    .dataframe tbody tr th:only-of-type {\n",
              "        vertical-align: middle;\n",
              "    }\n",
              "\n",
              "    .dataframe tbody tr th {\n",
              "        vertical-align: top;\n",
              "    }\n",
              "\n",
              "    .dataframe thead th {\n",
              "        text-align: right;\n",
              "    }\n",
              "</style>\n",
              "<table border=\"1\" class=\"dataframe\">\n",
              "  <thead>\n",
              "    <tr style=\"text-align: right;\">\n",
              "      <th></th>\n",
              "      <th>Gender</th>\n",
              "      <th>Married</th>\n",
              "      <th>Dependents</th>\n",
              "      <th>Education</th>\n",
              "      <th>Self_Employed</th>\n",
              "      <th>ApplicantIncome</th>\n",
              "      <th>CoapplicantIncome</th>\n",
              "      <th>LoanAmount</th>\n",
              "      <th>Loan_Amount_Term</th>\n",
              "      <th>Credit_History</th>\n",
              "      <th>Property_Area</th>\n",
              "    </tr>\n",
              "  </thead>\n",
              "  <tbody>\n",
              "    <tr>\n",
              "      <th>0</th>\n",
              "      <td>Male</td>\n",
              "      <td>No</td>\n",
              "      <td>3+</td>\n",
              "      <td>Graduate</td>\n",
              "      <td>No</td>\n",
              "      <td>1000</td>\n",
              "      <td>500</td>\n",
              "      <td>400</td>\n",
              "      <td>60</td>\n",
              "      <td>1.0</td>\n",
              "      <td>Urban</td>\n",
              "    </tr>\n",
              "  </tbody>\n",
              "</table>\n",
              "</div>"
            ],
            "text/plain": [
              "  Gender Married Dependents Education Self_Employed  ApplicantIncome  \\\n",
              "0   Male      No         3+  Graduate            No             1000   \n",
              "\n",
              "   CoapplicantIncome  LoanAmount  Loan_Amount_Term  Credit_History  \\\n",
              "0                500         400                60             1.0   \n",
              "\n",
              "  Property_Area  \n",
              "0         Urban  "
            ]
          },
          "execution_count": 7,
          "metadata": {},
          "output_type": "execute_result"
        }
      ],
      "source": [
        "gender = 'Male' # levels: ['Male', 'Female']\n",
        "married = 'No' # levels: ['No', 'Yes']\n",
        "dependents = '3+' # levels: ['0', '1', '2', '3+']\n",
        "education = 'Graduate' # levels: ['Not Graduate', 'Graduate']\n",
        "self_employed = 'No' # levels: ['No', 'Yes']\n",
        "applicant_income = 1000 # unit: dollar\n",
        "coapplicant_income = 500 # unit: dollar\n",
        "loan_amount = 400 # unit: dollar\n",
        "loan_amount_term = 60 # unit: days\n",
        "credit_history = 1.0 # levels: ['0', '1'] -> ['Not paid', 'All debts paid']\n",
        "property_area = 'Urban' # ['Rural', 'Semiurban', 'Urban']\n",
        "\n",
        "new_data = pd.DataFrame([{\n",
        "    'Gender': gender,\n",
        "    'Married': married,\n",
        "    'Dependents': dependents,\n",
        "    'Education': education,\n",
        "    'Self_Employed': self_employed,\n",
        "    'ApplicantIncome': applicant_income,\n",
        "    'CoapplicantIncome': coapplicant_income,\n",
        "    'LoanAmount': loan_amount,\n",
        "    'Loan_Amount_Term': loan_amount_term,\n",
        "    'Credit_History': credit_history,\n",
        "    'Property_Area': property_area\n",
        "}])\n",
        "\n",
        "new_data"
      ]
    },
    {
      "cell_type": "code",
      "execution_count": 8,
      "metadata": {
        "colab": {
          "base_uri": "https://localhost:8080/"
        },
        "id": "q4nzbpYgQpPw",
        "outputId": "e087be58-db4a-4ed8-f437-05061ae8e8cb"
      },
      "outputs": [
        {
          "data": {
            "text/plain": [
              "array([[0.35667516, 0.64332484]])"
            ]
          },
          "execution_count": 8,
          "metadata": {},
          "output_type": "execute_result"
        }
      ],
      "source": [
        "pipeline_load = joblib.load(filename)\n",
        "pipeline_load.predict_proba(new_data)"
      ]
    }
  ],
  "metadata": {
    "colab": {
      "collapsed_sections": [],
      "name": "DPhi - Datathon 54 - Sklearn Pipeline.ipynb",
      "provenance": []
    },
    "kernelspec": {
      "display_name": "Python 3",
      "name": "python3"
    },
    "language_info": {
      "codemirror_mode": {
        "name": "ipython",
        "version": 3
      },
      "file_extension": ".py",
      "mimetype": "text/x-python",
      "name": "python",
      "nbconvert_exporter": "python",
      "pygments_lexer": "ipython3",
      "version": "3.12.1"
    }
  },
  "nbformat": 4,
  "nbformat_minor": 0
}
