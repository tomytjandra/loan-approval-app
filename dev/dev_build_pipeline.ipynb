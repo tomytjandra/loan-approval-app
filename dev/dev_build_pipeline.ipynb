{
  "nbformat": 4,
  "nbformat_minor": 0,
  "metadata": {
    "colab": {
      "name": "DPhi - Datathon 54 - Sklearn Pipeline.ipynb",
      "provenance": [],
      "collapsed_sections": []
    },
    "kernelspec": {
      "name": "python3",
      "display_name": "Python 3"
    }
  },
  "cells": [
    {
      "cell_type": "markdown",
      "metadata": {
        "id": "PcuDoO1pudWm"
      },
      "source": [
        "# Import libraries"
      ]
    },
    {
      "cell_type": "code",
      "metadata": {
        "id": "vmX25UBTAqTX"
      },
      "source": [
        "import numpy as np\r\n",
        "import pandas as pd\r\n",
        "\r\n",
        "# pipeline\r\n",
        "from sklearn.impute import SimpleImputer\r\n",
        "from sklearn.preprocessing import OneHotEncoder, StandardScaler\r\n",
        "from sklearn.compose import ColumnTransformer\r\n",
        "from sklearn.pipeline import Pipeline\r\n",
        "\r\n",
        "# modeling\r\n",
        "from sklearn.linear_model import LogisticRegression, LogisticRegressionCV\r\n",
        "from sklearn.model_selection import train_test_split\r\n",
        "from sklearn.metrics import f1_score\r\n",
        "import joblib"
      ],
      "execution_count": 1,
      "outputs": []
    },
    {
      "cell_type": "markdown",
      "metadata": {
        "id": "E5iQvuv-ufqu"
      },
      "source": [
        "# Manual Preprocess"
      ]
    },
    {
      "cell_type": "code",
      "metadata": {
        "id": "rEvzX-n_Awna"
      },
      "source": [
        "RANDOM_STATE=567\r\n",
        "\r\n",
        "loan_data = pd.read_csv(\"https://raw.githubusercontent.com/dphi-official/Datasets/master/Loan_Data/loan_train.csv\")\r\n",
        "loan_data.drop(columns=['Unnamed: 0', 'Loan_ID'], inplace=True)\r\n",
        "loan_data['Credit_History'] = loan_data['Credit_History'].astype('object')\r\n",
        "X = loan_data.drop('Loan_Status', axis=1)\r\n",
        "y = loan_data.Loan_Status\r\n",
        "X_train, X_test, y_train, y_test = train_test_split(X, y, test_size=0.2, random_state=RANDOM_STATE)"
      ],
      "execution_count": 2,
      "outputs": []
    },
    {
      "cell_type": "markdown",
      "metadata": {
        "id": "jxJFNTfMuj3r"
      },
      "source": [
        "# Pipeline"
      ]
    },
    {
      "cell_type": "markdown",
      "metadata": {
        "id": "DtBLGysEuyjg"
      },
      "source": [
        "## ColumnTransformer"
      ]
    },
    {
      "cell_type": "code",
      "metadata": {
        "id": "LbaaIMzWAxTD"
      },
      "source": [
        "num_cols = X.select_dtypes(include=['int64', 'float64']).columns.tolist()\r\n",
        "cat_cols = X.select_dtypes(include=['object']).columns.tolist()\r\n",
        "\r\n",
        "num_pipeline = Pipeline(steps=[('num_impute', SimpleImputer(strategy='median')),\r\n",
        "                               ('num_scale', StandardScaler())])\r\n",
        "cat_pipeline = Pipeline(steps=[('cat_impute', SimpleImputer(strategy='most_frequent')),\r\n",
        "                               ('cat_encode', OneHotEncoder(drop='first'))])\r\n",
        "\r\n",
        "preprocess = ColumnTransformer(transformers=[('num', num_pipeline, num_cols),\r\n",
        "                                             ('cat', cat_pipeline, cat_cols)])"
      ],
      "execution_count": 3,
      "outputs": []
    },
    {
      "cell_type": "markdown",
      "metadata": {
        "id": "OuoNw5XGu1xF"
      },
      "source": [
        "## Full Pipeline"
      ]
    },
    {
      "cell_type": "code",
      "metadata": {
        "colab": {
          "base_uri": "https://localhost:8080/"
        },
        "id": "sbq-YtPIKgkO",
        "outputId": "56afe28a-ed21-48e3-c5a2-e9311a81211f"
      },
      "source": [
        "model = LogisticRegressionCV(Cs=100, cv=10, scoring='f1', solver='liblinear', random_state=RANDOM_STATE)\r\n",
        "pipeline = Pipeline(steps=[('preprocess', preprocess),\r\n",
        "                           ('model', model)])\r\n",
        "pipeline.fit(X_train, y_train)\r\n",
        "print(f'F1 Train: {f1_score(y_train, pipeline.predict(X_train))}')\r\n",
        "print(f'F1 Test: {f1_score(y_test, pipeline.predict(X_test))}')"
      ],
      "execution_count": 4,
      "outputs": [
        {
          "output_type": "stream",
          "text": [
            "F1 Train: 0.877076411960133\n",
            "F1 Test: 0.8848484848484848\n"
          ],
          "name": "stdout"
        }
      ]
    },
    {
      "cell_type": "code",
      "metadata": {
        "colab": {
          "base_uri": "https://localhost:8080/",
          "height": 239
        },
        "id": "0Bg3TDzpvcQm",
        "outputId": "d4036558-10d0-4f92-9bb5-fc956e4b42a7"
      },
      "source": [
        "transformed_cat_cols = pipeline['preprocess'].transformers_[1][1]['cat_encode'].get_feature_names(cat_cols).tolist()\r\n",
        "transformed_data = pd.DataFrame(preprocess.fit_transform(X_train),\r\n",
        "                                columns=num_cols + transformed_cat_cols)\r\n",
        "transformed_data.head()"
      ],
      "execution_count": 5,
      "outputs": [
        {
          "output_type": "execute_result",
          "data": {
            "text/html": [
              "<div>\n",
              "<style scoped>\n",
              "    .dataframe tbody tr th:only-of-type {\n",
              "        vertical-align: middle;\n",
              "    }\n",
              "\n",
              "    .dataframe tbody tr th {\n",
              "        vertical-align: top;\n",
              "    }\n",
              "\n",
              "    .dataframe thead th {\n",
              "        text-align: right;\n",
              "    }\n",
              "</style>\n",
              "<table border=\"1\" class=\"dataframe\">\n",
              "  <thead>\n",
              "    <tr style=\"text-align: right;\">\n",
              "      <th></th>\n",
              "      <th>ApplicantIncome</th>\n",
              "      <th>CoapplicantIncome</th>\n",
              "      <th>LoanAmount</th>\n",
              "      <th>Loan_Amount_Term</th>\n",
              "      <th>Gender_Male</th>\n",
              "      <th>Married_Yes</th>\n",
              "      <th>Dependents_1</th>\n",
              "      <th>Dependents_2</th>\n",
              "      <th>Dependents_3+</th>\n",
              "      <th>Education_Not Graduate</th>\n",
              "      <th>Self_Employed_Yes</th>\n",
              "      <th>Credit_History_1.0</th>\n",
              "      <th>Property_Area_Semiurban</th>\n",
              "      <th>Property_Area_Urban</th>\n",
              "    </tr>\n",
              "  </thead>\n",
              "  <tbody>\n",
              "    <tr>\n",
              "      <th>0</th>\n",
              "      <td>0.217423</td>\n",
              "      <td>-0.528093</td>\n",
              "      <td>0.196239</td>\n",
              "      <td>0.282064</td>\n",
              "      <td>1.0</td>\n",
              "      <td>1.0</td>\n",
              "      <td>0.0</td>\n",
              "      <td>0.0</td>\n",
              "      <td>0.0</td>\n",
              "      <td>0.0</td>\n",
              "      <td>0.0</td>\n",
              "      <td>1.0</td>\n",
              "      <td>0.0</td>\n",
              "      <td>1.0</td>\n",
              "    </tr>\n",
              "    <tr>\n",
              "      <th>1</th>\n",
              "      <td>-0.215676</td>\n",
              "      <td>0.197619</td>\n",
              "      <td>0.454656</td>\n",
              "      <td>0.282064</td>\n",
              "      <td>0.0</td>\n",
              "      <td>1.0</td>\n",
              "      <td>0.0</td>\n",
              "      <td>0.0</td>\n",
              "      <td>0.0</td>\n",
              "      <td>0.0</td>\n",
              "      <td>0.0</td>\n",
              "      <td>1.0</td>\n",
              "      <td>1.0</td>\n",
              "      <td>0.0</td>\n",
              "    </tr>\n",
              "    <tr>\n",
              "      <th>2</th>\n",
              "      <td>-0.667552</td>\n",
              "      <td>0.392422</td>\n",
              "      <td>-0.355832</td>\n",
              "      <td>0.282064</td>\n",
              "      <td>1.0</td>\n",
              "      <td>1.0</td>\n",
              "      <td>1.0</td>\n",
              "      <td>0.0</td>\n",
              "      <td>0.0</td>\n",
              "      <td>0.0</td>\n",
              "      <td>0.0</td>\n",
              "      <td>1.0</td>\n",
              "      <td>0.0</td>\n",
              "      <td>1.0</td>\n",
              "    </tr>\n",
              "    <tr>\n",
              "      <th>3</th>\n",
              "      <td>2.389388</td>\n",
              "      <td>0.179995</td>\n",
              "      <td>-0.672979</td>\n",
              "      <td>0.282064</td>\n",
              "      <td>1.0</td>\n",
              "      <td>1.0</td>\n",
              "      <td>1.0</td>\n",
              "      <td>0.0</td>\n",
              "      <td>0.0</td>\n",
              "      <td>0.0</td>\n",
              "      <td>1.0</td>\n",
              "      <td>1.0</td>\n",
              "      <td>1.0</td>\n",
              "      <td>0.0</td>\n",
              "    </tr>\n",
              "    <tr>\n",
              "      <th>4</th>\n",
              "      <td>-0.361503</td>\n",
              "      <td>-0.528093</td>\n",
              "      <td>0.137508</td>\n",
              "      <td>-4.525287</td>\n",
              "      <td>0.0</td>\n",
              "      <td>0.0</td>\n",
              "      <td>1.0</td>\n",
              "      <td>0.0</td>\n",
              "      <td>0.0</td>\n",
              "      <td>0.0</td>\n",
              "      <td>0.0</td>\n",
              "      <td>1.0</td>\n",
              "      <td>1.0</td>\n",
              "      <td>0.0</td>\n",
              "    </tr>\n",
              "  </tbody>\n",
              "</table>\n",
              "</div>"
            ],
            "text/plain": [
              "   ApplicantIncome  ...  Property_Area_Urban\n",
              "0         0.217423  ...                  1.0\n",
              "1        -0.215676  ...                  0.0\n",
              "2        -0.667552  ...                  1.0\n",
              "3         2.389388  ...                  0.0\n",
              "4        -0.361503  ...                  0.0\n",
              "\n",
              "[5 rows x 14 columns]"
            ]
          },
          "metadata": {
            "tags": []
          },
          "execution_count": 5
        }
      ]
    },
    {
      "cell_type": "markdown",
      "metadata": {
        "id": "sAmB53nBu7Tp"
      },
      "source": [
        "## Save Pipeline"
      ]
    },
    {
      "cell_type": "code",
      "metadata": {
        "colab": {
          "base_uri": "https://localhost:8080/"
        },
        "id": "8j3rNkAtQHTs",
        "outputId": "4884502f-5440-4d82-a2a9-63010881872e"
      },
      "source": [
        "from google.colab import files\r\n",
        "filename = 'loan_model_logreg.pkl'\r\n",
        "joblib.dump(pipeline, filename)\r\n",
        "# files.download(filename)"
      ],
      "execution_count": 6,
      "outputs": [
        {
          "output_type": "execute_result",
          "data": {
            "text/plain": [
              "['loan_model_logreg.pkl']"
            ]
          },
          "metadata": {
            "tags": []
          },
          "execution_count": 6
        }
      ]
    },
    {
      "cell_type": "markdown",
      "metadata": {
        "id": "jBiw1tibQVuH"
      },
      "source": [
        "# Load Pipeline and Predict New Data"
      ]
    },
    {
      "cell_type": "code",
      "metadata": {
        "colab": {
          "base_uri": "https://localhost:8080/",
          "height": 99
        },
        "id": "U20I64AiQkgW",
        "outputId": "cef404df-dd2d-45f5-fea7-679e7e65fa45"
      },
      "source": [
        "gender = 'Male' # levels: ['Male', 'Female']\r\n",
        "married = 'No' # levels: ['No', 'Yes']\r\n",
        "dependents = '3+' # levels: ['0', '1', '2', '3+']\r\n",
        "education = 'Graduate' # levels: ['Not Graduate', 'Graduate']\r\n",
        "self_employed = 'No' # levels: ['No', 'Yes']\r\n",
        "applicant_income = 1000 # unit: dollar\r\n",
        "coapplicant_income = 500 # unit: dollar\r\n",
        "loan_amount = 400 # unit: dollar\r\n",
        "loan_amount_term = 60 # unit: days\r\n",
        "credit_history = 1.0 # levels: ['0', '1'] -> ['Not paid', 'All debts paid']\r\n",
        "property_area = 'Urban' # ['Rural', 'Semiurban', 'Urban']\r\n",
        "\r\n",
        "new_data = pd.DataFrame([{\r\n",
        "    'Gender': gender,\r\n",
        "    'Married': married,\r\n",
        "    'Dependents': dependents,\r\n",
        "    'Education': education,\r\n",
        "    'Self_Employed': self_employed,\r\n",
        "    'ApplicantIncome': applicant_income,\r\n",
        "    'CoapplicantIncome': coapplicant_income,\r\n",
        "    'LoanAmount': loan_amount,\r\n",
        "    'Loan_Amount_Term': loan_amount_term,\r\n",
        "    'Credit_History': credit_history,\r\n",
        "    'Property_Area': property_area\r\n",
        "}])\r\n",
        "\r\n",
        "new_data"
      ],
      "execution_count": 7,
      "outputs": [
        {
          "output_type": "execute_result",
          "data": {
            "text/html": [
              "<div>\n",
              "<style scoped>\n",
              "    .dataframe tbody tr th:only-of-type {\n",
              "        vertical-align: middle;\n",
              "    }\n",
              "\n",
              "    .dataframe tbody tr th {\n",
              "        vertical-align: top;\n",
              "    }\n",
              "\n",
              "    .dataframe thead th {\n",
              "        text-align: right;\n",
              "    }\n",
              "</style>\n",
              "<table border=\"1\" class=\"dataframe\">\n",
              "  <thead>\n",
              "    <tr style=\"text-align: right;\">\n",
              "      <th></th>\n",
              "      <th>Gender</th>\n",
              "      <th>Married</th>\n",
              "      <th>Dependents</th>\n",
              "      <th>Education</th>\n",
              "      <th>Self_Employed</th>\n",
              "      <th>ApplicantIncome</th>\n",
              "      <th>CoapplicantIncome</th>\n",
              "      <th>LoanAmount</th>\n",
              "      <th>Loan_Amount_Term</th>\n",
              "      <th>Credit_History</th>\n",
              "      <th>Property_Area</th>\n",
              "    </tr>\n",
              "  </thead>\n",
              "  <tbody>\n",
              "    <tr>\n",
              "      <th>0</th>\n",
              "      <td>Male</td>\n",
              "      <td>No</td>\n",
              "      <td>3+</td>\n",
              "      <td>Graduate</td>\n",
              "      <td>No</td>\n",
              "      <td>1000</td>\n",
              "      <td>500</td>\n",
              "      <td>400</td>\n",
              "      <td>60</td>\n",
              "      <td>1.0</td>\n",
              "      <td>Urban</td>\n",
              "    </tr>\n",
              "  </tbody>\n",
              "</table>\n",
              "</div>"
            ],
            "text/plain": [
              "  Gender Married Dependents  ... Loan_Amount_Term Credit_History  Property_Area\n",
              "0   Male      No         3+  ...               60            1.0          Urban\n",
              "\n",
              "[1 rows x 11 columns]"
            ]
          },
          "metadata": {
            "tags": []
          },
          "execution_count": 7
        }
      ]
    },
    {
      "cell_type": "code",
      "metadata": {
        "colab": {
          "base_uri": "https://localhost:8080/"
        },
        "id": "q4nzbpYgQpPw",
        "outputId": "e087be58-db4a-4ed8-f437-05061ae8e8cb"
      },
      "source": [
        "pipeline_load = joblib.load(filename)\r\n",
        "pipeline_load.predict_proba(new_data)"
      ],
      "execution_count": 8,
      "outputs": [
        {
          "output_type": "execute_result",
          "data": {
            "text/plain": [
              "array([[0.35667516, 0.64332484]])"
            ]
          },
          "metadata": {
            "tags": []
          },
          "execution_count": 8
        }
      ]
    }
  ]
}